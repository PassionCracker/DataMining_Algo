{
 "cells": [
  {
   "cell_type": "code",
   "execution_count": 566,
   "metadata": {},
   "outputs": [],
   "source": [
    "import csv\n",
    "import random\n",
    "import math\n",
    "import pandas as pd"
   ]
  },
  {
   "cell_type": "code",
   "execution_count": 567,
   "metadata": {},
   "outputs": [],
   "source": [
    "# defining functions for individual tasks...\n",
    "#1. To open iris CSV file as dataframe\n",
    "#2. For splitting given dataset into taining and testing set( based on given split ratio)\n",
    "#3. Divide dataset into dictionary based on class labels."
   ]
  },
  {
   "cell_type": "code",
   "execution_count": 599,
   "metadata": {},
   "outputs": [],
   "source": [
    "def loadCSV(csv_filepath):\n",
    "    dataframe = pd.read_csv(csv_filepath)\n",
    "    #dataframe is like 2D matrix. If any data is non numeric, convert it into numeric one's.\n",
    "    #Here in iris dataset, target variable,\"variety\" is non numeric. hence , need to be converted.\n",
    "    num = {'Setosa':0,'Versicolor':1,'Virginica':2}\n",
    "    dataframe = dataframe.replace(num)\n",
    "    dataset=[]\n",
    "    for index,rows in dataframe.iterrows():\n",
    "        row = []\n",
    "        for item in rows:\n",
    "            row.append(item)\n",
    "        dataset.append(row)\n",
    "    \n",
    "    return dataset"
   ]
  },
  {
   "cell_type": "code",
   "execution_count": 600,
   "metadata": {},
   "outputs": [],
   "source": [
    "def trainTestSplit(dataset, splitratio):\n",
    "    training_rows = int(splitratio*len(dataset))\n",
    "    train = dataset[ : training_rows]\n",
    "    test = dataset[training_rows : ]\n",
    "    return train,test"
   ]
  },
  {
   "cell_type": "code",
   "execution_count": 601,
   "metadata": {},
   "outputs": [],
   "source": [
    "def divideIntoDict(dataset):\n",
    "    dict={}\n",
    "    for row in dataset:\n",
    "        if row[-1] not in dict:\n",
    "            dict[row[-1]] = []\n",
    "        dict[row[-1]].append(row)\n",
    "    return dict"
   ]
  },
  {
   "cell_type": "code",
   "execution_count": 602,
   "metadata": {},
   "outputs": [],
   "source": [
    "#!!!!!!!!!     The above is a dictionary holding rows for each class label         !!!!!!!!!!!!!!!\n",
    "#This Naive bayes is000000 based on calculating probabilities.For discrete values like in play tennis dataset, it's fine.\n",
    "# What about continuous values as attributes like in iris dataset?\n",
    "# Hence use gaussian probability density function to decide probabilities for each class variable.\n",
    "# Follow the tuto link---> https://www.saedsayad.com/naive_bayesian.htm"
   ]
  },
  {
   "cell_type": "code",
   "execution_count": 603,
   "metadata": {},
   "outputs": [],
   "source": [
    "def mean(numbers):\n",
    "    return sum(numbers)/float(len(numbers))\n",
    " \n",
    "def stdev(numbers):\n",
    "    avg = mean(numbers)\n",
    "    variance = 0\n",
    "    for item in numbers:\n",
    "        variance += (item-avg)*(item-avg)\n",
    "    variance = variance/float(len(numbers)-1)\n",
    "    return math.sqrt(variance)"
   ]
  },
  {
   "cell_type": "code",
   "execution_count": 604,
   "metadata": {},
   "outputs": [],
   "source": [
    "# Importance of zip function in python here\n",
    "# x = zip([1,2],[3,4])\n",
    "#print(tuple(x))\n",
    "#o/p : ((1,3),(2,4))\n",
    "# Here dict[0] is a list of lists. To extract all the lists at a time, use *dict[0]"
   ]
  },
  {
   "cell_type": "code",
   "execution_count": 605,
   "metadata": {},
   "outputs": [],
   "source": [
    "#summary_dict contains key as target and values as list of tuples, where each tuple corresponds \n",
    "#                                                                                   to mean and stand dev of an attribute"
   ]
  },
  {
   "cell_type": "code",
   "execution_count": 606,
   "metadata": {},
   "outputs": [],
   "source": [
    "def get_summary_dict(dict):\n",
    "    summary_dict = {}\n",
    "    for key in dict:\n",
    "        summary_dict[key] = []\n",
    "        for item in tuple(zip(*dict[key])):\n",
    "            summary_dict[key].append((mean(item),stdev(item)))\n",
    "        del summary_dict[key][-1]\n",
    "    return summary_dict"
   ]
  },
  {
   "cell_type": "code",
   "execution_count": 607,
   "metadata": {},
   "outputs": [],
   "source": [
    "# Gaussian Probability density function\n",
    "def calculateProbability(x, mean, stdev):\n",
    "    exponent = math.exp(-(math.pow(x-mean,2)/(2*math.pow(stdev,2))))\n",
    "    val=(1 / (math.sqrt(2*math.pi) * stdev)) * exponent\n",
    "    return val"
   ]
  },
  {
   "cell_type": "code",
   "execution_count": 608,
   "metadata": {},
   "outputs": [],
   "source": [
    "def calculateClassProbabilities(summary_dict,input_vector):\n",
    "    probabilities = {}\n",
    "    for key in summary_dict:\n",
    "        probabilities[key] = 1\n",
    "        i = 0\n",
    "        for item in summary_dict[key]:\n",
    "            x = input_vector[i] \n",
    "            probabilities[key] *= calculateProbability(x, item[0], item[1])\n",
    "            i+=1\n",
    "    return probabilities            "
   ]
  },
  {
   "cell_type": "code",
   "execution_count": 609,
   "metadata": {},
   "outputs": [],
   "source": [
    "#The above probabilities dictionary comprises of key as class and probability of tuple belongs to that class as value.\n",
    "#The input tuple belongs to the class of highest probability"
   ]
  },
  {
   "cell_type": "code",
   "execution_count": 610,
   "metadata": {},
   "outputs": [],
   "source": [
    "def predict_class_label(summary_dict,input_vector):\n",
    "    probabilities = calculateClassProbabilities(summary_dict,input_vector)\n",
    "    highest_prob = 0\n",
    "    for key in probabilities:\n",
    "        if(probabilities[key]) >= highest_prob:\n",
    "            label = key\n",
    "            highest_prob = probabilities[key]\n",
    "    return label"
   ]
  },
  {
   "cell_type": "code",
   "execution_count": 611,
   "metadata": {},
   "outputs": [],
   "source": [
    "def getPredictions(summary_dict,test):\n",
    "    predictions = []\n",
    "    for row in test:\n",
    "        result = predict_class_label(summary_dict,row)\n",
    "        predictions.append(result)\n",
    "    return predictions\n",
    " \n",
    "def getAccuracy(test, predictions):\n",
    "    correct = 0\n",
    "    i=0\n",
    "    for row in test:\n",
    "        if row[-1] == predictions[i]:\n",
    "            correct += 1\n",
    "        i+=1\n",
    "    return (correct/float(len(test))) * 100.0"
   ]
  },
  {
   "cell_type": "code",
   "execution_count": 612,
   "metadata": {},
   "outputs": [
    {
     "name": "stdout",
     "output_type": "stream",
     "text": [
      "93.75\n"
     ]
    }
   ],
   "source": [
    "def main():\n",
    "    filepath = \"iris.csv\"\n",
    "    split_ratio = 0.68\n",
    "    dataset = loadCSV(filepath)\n",
    "    train,test = trainTestSplit(dataset,split_ratio)\n",
    "    dict = divideIntoDict(train)\n",
    "    summary_dict = get_summary_dict(dict)\n",
    "    predictions = getPredictions(summary_dict,test)\n",
    "    accuracy = getAccuracy(test, predictions)\n",
    "    print(accuracy)\n",
    "    #label=predict_class_label(summary_dict,[5.1,2.5,3,1.1])\n",
    "    #print(label)\n",
    "main()    "
   ]
  },
  {
   "cell_type": "code",
   "execution_count": null,
   "metadata": {},
   "outputs": [],
   "source": [
    "#Completed\n",
    "#https://machinelearningmastery.com/naive-bayes-classifier-scratch-python/"
   ]
  },
  {
   "cell_type": "code",
   "execution_count": null,
   "metadata": {},
   "outputs": [],
   "source": []
  }
 ],
 "metadata": {
  "kernelspec": {
   "display_name": "Python 3",
   "language": "python",
   "name": "python3"
  },
  "language_info": {
   "codemirror_mode": {
    "name": "ipython",
    "version": 3
   },
   "file_extension": ".py",
   "mimetype": "text/x-python",
   "name": "python",
   "nbconvert_exporter": "python",
   "pygments_lexer": "ipython3",
   "version": "3.7.3"
  }
 },
 "nbformat": 4,
 "nbformat_minor": 2
}
